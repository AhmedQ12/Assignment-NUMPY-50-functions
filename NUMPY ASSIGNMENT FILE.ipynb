import numpy as np
import math

#FUNCTION   1
a = np.diag([4,6,-6])
print(a)

#FUNCTION EYE    2
b= np.eye(6)
print(b)

#FUNCTION ONCE    3
c=np.ones((7))
print(c)


#FUNCTION ZEROS   4
c=np.zeros((7))
print(c)

#numpy.sin function    5
my_arr = [0, math.pi / 5, math.pi / 7,np.pi]
print("ARRAY VALUE",my_arr)
sin_arr = np.sin(my_arr)
print("SIN ARRAY",sin_arr)


#NUMPY COS FUNCTION    6
my_arrcos = [0, math.pi/5, np.pi/3 , np.pi]
print("MY ARRAY VALUES", my_arrcos)
mycos = np.cos(my_arrcos)
print("MY COS VALUE", mycos)

#NUMPY TAN FUNCTION   7
my_arrcos = [0, math.pi/5, np.pi/3 , np.pi]
print("MY ARRAY VALUES", my_arrcos)
mycos = np.tan(my_arrcos)
print("MY COS VALUE", mycos)


#Numpy Radians 8
#declaring array
arr1 = [0, 30, 45, 60, 90]
#Printing array 9
print(arr1)
#Now we will convert degrees to radians      10
arr2 = np.radians(arr1)
#Printing radian values   11
print("New Radian array is:")
print(arr2)


#unwrap   12
import numpy as np

l1 =[1, 2, 3, 4, 5]
print("Result 1: ", np.unwrap(l1))

l2 =[0, 0.78, 5.49, 6.28]
print("Result 2: ", np.unwrap(l2))


#ROUND FUNCTION   13
l1 =[1, 2, 3, 4, 5]
print("Result 1: ", np.round(l1))

#AROUND FUNCTION   14
l2 =[0, 0.78, 5.49, 6.28]
print("Result 2: ", np.around(l2))

#ARCCOSH    15
l1 =[1, 2, 3, 4, 5]
print("Result 1: ", np.arccosh(l1))

#ARCTANH     16
l1 =[1, 2, 3, 4, 5]
print("Result 1: ", np.arctanh(l1))

#SUM    17
def sum(array):

    sum = 0
    for i in array:
        sum += i
    return sum
testArray = [1, 3, 34, 92, 29, 48, 20.3]
print('The sum of your numbers is ' + str(sum(testArray)))


#DIFFERENCE    18
array = np.array([1, 3, 4, 7, 9])
print("Input array  : ", array)
print("First order difference  : ", np.diff(array))
print("Second order difference : ", np.diff(array, n=2))
print("Third order difference  : ", np.diff(array, n=3))

#RANDINT   19
arrey = np.random.randint(1,15,3)
print(arrey)

#RAND   20
arrey1 = np.random.rand(5)
print(arrey)

#RAND 2D    21
arrey1 = np.random.rand(5,9)
print(arrey)

#SPACING     22
np_array = np.linspace(0,11,5)
print(np_array)
np_array = np.linspace(0,11,5, False)
print(np_array)
np_array = np.linspace(0,11,5,retstep=True)
print(np_array)
np_array = np.linspace(0,11,5,dtype=int)
print(np_array)

#ADD    23
a = np.arange(10)
b = np.add.reduce(a, dtype = int, axis = 0)
print("The array {0} gets reduced to {1}".format(a, b))


#UFUNC.OUTER()      24
a = np.arange(4).reshape(2,2)
b = np.arange(3)
z = np.add.outer(b, a)
print("The outer of {0} & {1} is {2}".format(b,a,z))

#DIVIDE function        25
a1 = 24
a2 = 13
print ("1st Input number : ", a1)
print ("2nd Input number : ", a2)
div = np.divide(a1, a2)
print ("Division of two input number : ", div)


#MULTIPLY FUNCTION       26
a1 = 24
a2 = 13
print ("1st Input number : ", a1)
print ("2nd Input number : ", a2)
div = np.divide(a1, a2)
print ("Division of two input number : ", div)

#POWER FUNCTION       27
arr1 = [4, 2, 1, 6, 5]
arr2 = [4, 0, 5, 2, 3]
print("Elements of arr1 raised to the power elements of arr2 are: ")
print(np.power(arr1, arr2))

#array shape      28
arr = np.array([[1, 2, 3, 4], [5, 6, 7, 8]])
print(arr.shape)

#array slicing     29
arr = np.array([1, 2, 3, 4, 5, 6, 7])
print(arr[1:5])

#array shape    30
arr = np.array([[1, 2, 3, 4], [5, 6, 7, 8]])
print(arr.shape)

#array sort    31
arr = np.array([3, 2, 0, 1])
print(np.sort(arr))

#numpy    32
arr = np.array([1, 2, 3, 4, 5])
print(arr)

#array indexing    33
arr = np.array([1, 2, 3, 4])
print(arr[0])

#array indexing     34
arr = np.array([1, 2, 3, 4])
print(arr[1])

#array indexing 2d   36
arr = np.array([[1,2,3,4,5], [6,7,8,9,10]])
print('5th element on 2nd dim: ', arr[1, 4])

#numpy copy  37
arr = np.array([1, 2, 3, 4, 5])
x = arr.copy()
arr[0] = 42
print(arr)
print(x)

#array iterating   39
arr = np.array([1, 2, 3])
for x in arr:
  print(x)

#array 2d iterating     40
arr = np.array([[1, 2, 3], [4, 5, 6]])
for x in arr:
  for y in x:
    print(y)

#array filter    41
arr = np.array([41, 42, 43, 44])
x = [True, False, True, False]
newarr = arr[x]
print(newarr)